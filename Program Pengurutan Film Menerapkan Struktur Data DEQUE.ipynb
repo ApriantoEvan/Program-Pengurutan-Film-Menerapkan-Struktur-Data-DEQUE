{
  "cells": [
    {
      "cell_type": "markdown",
      "metadata": {
        "id": "NgyImnqS86fN"
      },
      "source": [
        "##TUGAS BESAR KELOMPOK 3\n",
        "\n",
        "1. 119160095_Yahya Agung Nadabunda\n",
        "2. 121450006_Ditta Winanda Putri\n",
        "3. 121450120_M.faqih\n",
        "4. 121450036_Rika Ajeng Finatih\n",
        "5. 121450075_Veni Zahara Kartika\n",
        "6. 121450024_Evan Aprianto"
      ]
    },
    {
      "cell_type": "code",
      "execution_count": null,
      "metadata": {
        "colab": {
          "base_uri": "https://localhost:8080/",
          "height": 424
        },
        "id": "RuASMJgcB4vq",
        "outputId": "b4270784-10b9-498e-f2a9-b060e2ba523e"
      },
      "outputs": [
        {
          "output_type": "execute_result",
          "data": {
            "text/plain": [
              "    S no                        Movie  Rating No. of votes  Mean  Median  \\\n",
              "0      1                        Tenet     7.3     4,76,083   7.4       8   \n",
              "1      2                         Soul     8.0     3,15,029   8.1       8   \n",
              "2      3            Wonder Woman 1984     5.4     2,58,696   5.3       5   \n",
              "3      4                Birds of Prey     6.0     2,31,720   6.1       6   \n",
              "4      5            The Invisible Man     7.1     2,20,635   7.1       7   \n",
              "..   ...                          ...     ...          ...   ...     ...   \n",
              "95    96  Tanhaji: The Unsung Warrior     7.5       29,443   8.3      10   \n",
              "96    97                         Host     6.5       28,472   6.6       7   \n",
              "97    98                      Thappad     7.1       28,243   7.4       9   \n",
              "98    99                 Artemis Fowl     4.2       27,859   4.4       4   \n",
              "99   100                   The Banker     7.3       27,609   7.4       7   \n",
              "\n",
              "       Males  M Rating Females  F Rating  <18  18-29  30-44  45+  \n",
              "0   2,35,073       7.3  32,997       7.1  7.8    7.6    7.2  6.8  \n",
              "1   1,39,120       8.0  35,325       8.1  8.4    8.2    7.9  7.7  \n",
              "2   1,29,020       5.3  21,678       5.9  5.2    5.5    5.3  5.3  \n",
              "3   2,31,720       5.9  23,972       6.6  6.4    6.2    6.0  5.8  \n",
              "4   1,14,618       7.0  26,262       7.2  7.6    7.3    7.0  6.9  \n",
              "..       ...       ...     ...       ...  ...    ...    ...  ...  \n",
              "95    12,375       7.2     558       6.5  7.9    7.6    7.0  6.0  \n",
              "96    15,307       6.5   3,439       6.6  6.3    6.6    6.5  6.4  \n",
              "97     8,934       6.8   1,843       8.1  7.0    7.3    6.8  6.8  \n",
              "98    14,875       4.2   3,312       4.9  3.4    3.6    4.2  4.9  \n",
              "99    16,290       7.2   2,376       7.5  7.8    7.3    7.2  7.2  \n",
              "\n",
              "[100 rows x 14 columns]"
            ],
            "text/html": [
              "\n",
              "  <div id=\"df-daa0d0d6-61e1-4b8d-ad49-88e8a7574114\">\n",
              "    <div class=\"colab-df-container\">\n",
              "      <div>\n",
              "<style scoped>\n",
              "    .dataframe tbody tr th:only-of-type {\n",
              "        vertical-align: middle;\n",
              "    }\n",
              "\n",
              "    .dataframe tbody tr th {\n",
              "        vertical-align: top;\n",
              "    }\n",
              "\n",
              "    .dataframe thead th {\n",
              "        text-align: right;\n",
              "    }\n",
              "</style>\n",
              "<table border=\"1\" class=\"dataframe\">\n",
              "  <thead>\n",
              "    <tr style=\"text-align: right;\">\n",
              "      <th></th>\n",
              "      <th>S no</th>\n",
              "      <th>Movie</th>\n",
              "      <th>Rating</th>\n",
              "      <th>No. of votes</th>\n",
              "      <th>Mean</th>\n",
              "      <th>Median</th>\n",
              "      <th>Males</th>\n",
              "      <th>M Rating</th>\n",
              "      <th>Females</th>\n",
              "      <th>F Rating</th>\n",
              "      <th>&lt;18</th>\n",
              "      <th>18-29</th>\n",
              "      <th>30-44</th>\n",
              "      <th>45+</th>\n",
              "    </tr>\n",
              "  </thead>\n",
              "  <tbody>\n",
              "    <tr>\n",
              "      <th>0</th>\n",
              "      <td>1</td>\n",
              "      <td>Tenet</td>\n",
              "      <td>7.3</td>\n",
              "      <td>4,76,083</td>\n",
              "      <td>7.4</td>\n",
              "      <td>8</td>\n",
              "      <td>2,35,073</td>\n",
              "      <td>7.3</td>\n",
              "      <td>32,997</td>\n",
              "      <td>7.1</td>\n",
              "      <td>7.8</td>\n",
              "      <td>7.6</td>\n",
              "      <td>7.2</td>\n",
              "      <td>6.8</td>\n",
              "    </tr>\n",
              "    <tr>\n",
              "      <th>1</th>\n",
              "      <td>2</td>\n",
              "      <td>Soul</td>\n",
              "      <td>8.0</td>\n",
              "      <td>3,15,029</td>\n",
              "      <td>8.1</td>\n",
              "      <td>8</td>\n",
              "      <td>1,39,120</td>\n",
              "      <td>8.0</td>\n",
              "      <td>35,325</td>\n",
              "      <td>8.1</td>\n",
              "      <td>8.4</td>\n",
              "      <td>8.2</td>\n",
              "      <td>7.9</td>\n",
              "      <td>7.7</td>\n",
              "    </tr>\n",
              "    <tr>\n",
              "      <th>2</th>\n",
              "      <td>3</td>\n",
              "      <td>Wonder Woman 1984</td>\n",
              "      <td>5.4</td>\n",
              "      <td>2,58,696</td>\n",
              "      <td>5.3</td>\n",
              "      <td>5</td>\n",
              "      <td>1,29,020</td>\n",
              "      <td>5.3</td>\n",
              "      <td>21,678</td>\n",
              "      <td>5.9</td>\n",
              "      <td>5.2</td>\n",
              "      <td>5.5</td>\n",
              "      <td>5.3</td>\n",
              "      <td>5.3</td>\n",
              "    </tr>\n",
              "    <tr>\n",
              "      <th>3</th>\n",
              "      <td>4</td>\n",
              "      <td>Birds of Prey</td>\n",
              "      <td>6.0</td>\n",
              "      <td>2,31,720</td>\n",
              "      <td>6.1</td>\n",
              "      <td>6</td>\n",
              "      <td>2,31,720</td>\n",
              "      <td>5.9</td>\n",
              "      <td>23,972</td>\n",
              "      <td>6.6</td>\n",
              "      <td>6.4</td>\n",
              "      <td>6.2</td>\n",
              "      <td>6.0</td>\n",
              "      <td>5.8</td>\n",
              "    </tr>\n",
              "    <tr>\n",
              "      <th>4</th>\n",
              "      <td>5</td>\n",
              "      <td>The Invisible Man</td>\n",
              "      <td>7.1</td>\n",
              "      <td>2,20,635</td>\n",
              "      <td>7.1</td>\n",
              "      <td>7</td>\n",
              "      <td>1,14,618</td>\n",
              "      <td>7.0</td>\n",
              "      <td>26,262</td>\n",
              "      <td>7.2</td>\n",
              "      <td>7.6</td>\n",
              "      <td>7.3</td>\n",
              "      <td>7.0</td>\n",
              "      <td>6.9</td>\n",
              "    </tr>\n",
              "    <tr>\n",
              "      <th>...</th>\n",
              "      <td>...</td>\n",
              "      <td>...</td>\n",
              "      <td>...</td>\n",
              "      <td>...</td>\n",
              "      <td>...</td>\n",
              "      <td>...</td>\n",
              "      <td>...</td>\n",
              "      <td>...</td>\n",
              "      <td>...</td>\n",
              "      <td>...</td>\n",
              "      <td>...</td>\n",
              "      <td>...</td>\n",
              "      <td>...</td>\n",
              "      <td>...</td>\n",
              "    </tr>\n",
              "    <tr>\n",
              "      <th>95</th>\n",
              "      <td>96</td>\n",
              "      <td>Tanhaji: The Unsung Warrior</td>\n",
              "      <td>7.5</td>\n",
              "      <td>29,443</td>\n",
              "      <td>8.3</td>\n",
              "      <td>10</td>\n",
              "      <td>12,375</td>\n",
              "      <td>7.2</td>\n",
              "      <td>558</td>\n",
              "      <td>6.5</td>\n",
              "      <td>7.9</td>\n",
              "      <td>7.6</td>\n",
              "      <td>7.0</td>\n",
              "      <td>6.0</td>\n",
              "    </tr>\n",
              "    <tr>\n",
              "      <th>96</th>\n",
              "      <td>97</td>\n",
              "      <td>Host</td>\n",
              "      <td>6.5</td>\n",
              "      <td>28,472</td>\n",
              "      <td>6.6</td>\n",
              "      <td>7</td>\n",
              "      <td>15,307</td>\n",
              "      <td>6.5</td>\n",
              "      <td>3,439</td>\n",
              "      <td>6.6</td>\n",
              "      <td>6.3</td>\n",
              "      <td>6.6</td>\n",
              "      <td>6.5</td>\n",
              "      <td>6.4</td>\n",
              "    </tr>\n",
              "    <tr>\n",
              "      <th>97</th>\n",
              "      <td>98</td>\n",
              "      <td>Thappad</td>\n",
              "      <td>7.1</td>\n",
              "      <td>28,243</td>\n",
              "      <td>7.4</td>\n",
              "      <td>9</td>\n",
              "      <td>8,934</td>\n",
              "      <td>6.8</td>\n",
              "      <td>1,843</td>\n",
              "      <td>8.1</td>\n",
              "      <td>7.0</td>\n",
              "      <td>7.3</td>\n",
              "      <td>6.8</td>\n",
              "      <td>6.8</td>\n",
              "    </tr>\n",
              "    <tr>\n",
              "      <th>98</th>\n",
              "      <td>99</td>\n",
              "      <td>Artemis Fowl</td>\n",
              "      <td>4.2</td>\n",
              "      <td>27,859</td>\n",
              "      <td>4.4</td>\n",
              "      <td>4</td>\n",
              "      <td>14,875</td>\n",
              "      <td>4.2</td>\n",
              "      <td>3,312</td>\n",
              "      <td>4.9</td>\n",
              "      <td>3.4</td>\n",
              "      <td>3.6</td>\n",
              "      <td>4.2</td>\n",
              "      <td>4.9</td>\n",
              "    </tr>\n",
              "    <tr>\n",
              "      <th>99</th>\n",
              "      <td>100</td>\n",
              "      <td>The Banker</td>\n",
              "      <td>7.3</td>\n",
              "      <td>27,609</td>\n",
              "      <td>7.4</td>\n",
              "      <td>7</td>\n",
              "      <td>16,290</td>\n",
              "      <td>7.2</td>\n",
              "      <td>2,376</td>\n",
              "      <td>7.5</td>\n",
              "      <td>7.8</td>\n",
              "      <td>7.3</td>\n",
              "      <td>7.2</td>\n",
              "      <td>7.2</td>\n",
              "    </tr>\n",
              "  </tbody>\n",
              "</table>\n",
              "<p>100 rows × 14 columns</p>\n",
              "</div>\n",
              "      <button class=\"colab-df-convert\" onclick=\"convertToInteractive('df-daa0d0d6-61e1-4b8d-ad49-88e8a7574114')\"\n",
              "              title=\"Convert this dataframe to an interactive table.\"\n",
              "              style=\"display:none;\">\n",
              "        \n",
              "  <svg xmlns=\"http://www.w3.org/2000/svg\" height=\"24px\"viewBox=\"0 0 24 24\"\n",
              "       width=\"24px\">\n",
              "    <path d=\"M0 0h24v24H0V0z\" fill=\"none\"/>\n",
              "    <path d=\"M18.56 5.44l.94 2.06.94-2.06 2.06-.94-2.06-.94-.94-2.06-.94 2.06-2.06.94zm-11 1L8.5 8.5l.94-2.06 2.06-.94-2.06-.94L8.5 2.5l-.94 2.06-2.06.94zm10 10l.94 2.06.94-2.06 2.06-.94-2.06-.94-.94-2.06-.94 2.06-2.06.94z\"/><path d=\"M17.41 7.96l-1.37-1.37c-.4-.4-.92-.59-1.43-.59-.52 0-1.04.2-1.43.59L10.3 9.45l-7.72 7.72c-.78.78-.78 2.05 0 2.83L4 21.41c.39.39.9.59 1.41.59.51 0 1.02-.2 1.41-.59l7.78-7.78 2.81-2.81c.8-.78.8-2.07 0-2.86zM5.41 20L4 18.59l7.72-7.72 1.47 1.35L5.41 20z\"/>\n",
              "  </svg>\n",
              "      </button>\n",
              "      \n",
              "  <style>\n",
              "    .colab-df-container {\n",
              "      display:flex;\n",
              "      flex-wrap:wrap;\n",
              "      gap: 12px;\n",
              "    }\n",
              "\n",
              "    .colab-df-convert {\n",
              "      background-color: #E8F0FE;\n",
              "      border: none;\n",
              "      border-radius: 50%;\n",
              "      cursor: pointer;\n",
              "      display: none;\n",
              "      fill: #1967D2;\n",
              "      height: 32px;\n",
              "      padding: 0 0 0 0;\n",
              "      width: 32px;\n",
              "    }\n",
              "\n",
              "    .colab-df-convert:hover {\n",
              "      background-color: #E2EBFA;\n",
              "      box-shadow: 0px 1px 2px rgba(60, 64, 67, 0.3), 0px 1px 3px 1px rgba(60, 64, 67, 0.15);\n",
              "      fill: #174EA6;\n",
              "    }\n",
              "\n",
              "    [theme=dark] .colab-df-convert {\n",
              "      background-color: #3B4455;\n",
              "      fill: #D2E3FC;\n",
              "    }\n",
              "\n",
              "    [theme=dark] .colab-df-convert:hover {\n",
              "      background-color: #434B5C;\n",
              "      box-shadow: 0px 1px 3px 1px rgba(0, 0, 0, 0.15);\n",
              "      filter: drop-shadow(0px 1px 2px rgba(0, 0, 0, 0.3));\n",
              "      fill: #FFFFFF;\n",
              "    }\n",
              "  </style>\n",
              "\n",
              "      <script>\n",
              "        const buttonEl =\n",
              "          document.querySelector('#df-daa0d0d6-61e1-4b8d-ad49-88e8a7574114 button.colab-df-convert');\n",
              "        buttonEl.style.display =\n",
              "          google.colab.kernel.accessAllowed ? 'block' : 'none';\n",
              "\n",
              "        async function convertToInteractive(key) {\n",
              "          const element = document.querySelector('#df-daa0d0d6-61e1-4b8d-ad49-88e8a7574114');\n",
              "          const dataTable =\n",
              "            await google.colab.kernel.invokeFunction('convertToInteractive',\n",
              "                                                     [key], {});\n",
              "          if (!dataTable) return;\n",
              "\n",
              "          const docLinkHtml = 'Like what you see? Visit the ' +\n",
              "            '<a target=\"_blank\" href=https://colab.research.google.com/notebooks/data_table.ipynb>data table notebook</a>'\n",
              "            + ' to learn more about interactive tables.';\n",
              "          element.innerHTML = '';\n",
              "          dataTable['output_type'] = 'display_data';\n",
              "          await google.colab.output.renderOutput(dataTable, element);\n",
              "          const docLink = document.createElement('div');\n",
              "          docLink.innerHTML = docLinkHtml;\n",
              "          element.appendChild(docLink);\n",
              "        }\n",
              "      </script>\n",
              "    </div>\n",
              "  </div>\n",
              "  "
            ]
          },
          "metadata": {},
          "execution_count": 1
        }
      ],
      "source": [
        "import pandas as pd\n",
        "\n",
        "filename = 'IMDb_2020.csv'\n",
        "df = pd.read_csv('IMDb_2020.csv')\n",
        "df"
      ]
    },
    {
      "cell_type": "code",
      "execution_count": null,
      "metadata": {
        "id": "UrQKF8Ko3cpQ"
      },
      "outputs": [],
      "source": [
        "# Deque implementation in python\n",
        "class Deque:\n",
        "    def __init__(self):\n",
        "      self.items = []\n",
        "\n",
        "    def isEmpty(self):\n",
        "      return self.items == []\n",
        "\n",
        "    def addrear(self, item):\n",
        "      self.items.append(item)\n",
        "\n",
        "    def addfront(self, item):\n",
        "      self.items.insert(0, item)\n",
        "\n",
        "    def deletefront(self):\n",
        "      return self.items.pop(0)\n",
        "\n",
        "    def deleterear(self):\n",
        "      return self.items.pop()\n",
        "\n",
        "    def size(self):\n",
        "      return len(self.items)\n",
        "    \n",
        "    def display(self):\n",
        "      return self.items"
      ]
    },
    {
      "cell_type": "code",
      "execution_count": null,
      "metadata": {
        "id": "T-iaJqlB_YJu"
      },
      "outputs": [],
      "source": [
        "p=Deque()"
      ]
    },
    {
      "cell_type": "code",
      "execution_count": null,
      "metadata": {
        "colab": {
          "base_uri": "https://localhost:8080/"
        },
        "id": "FqIhn8F3Afp-",
        "outputId": "4e70cbb6-b274-4766-94d4-5ef7087fcfa9"
      },
      "outputs": [
        {
          "output_type": "stream",
          "name": "stdout",
          "text": [
            "Tampilan list awal\n"
          ]
        },
        {
          "output_type": "execute_result",
          "data": {
            "text/plain": [
              "[]"
            ]
          },
          "metadata": {},
          "execution_count": 4
        }
      ],
      "source": [
        "print('Tampilan list awal')\n",
        "p.display()"
      ]
    },
    {
      "cell_type": "code",
      "execution_count": null,
      "metadata": {
        "id": "TmWPzWdb-3Hi"
      },
      "outputs": [],
      "source": [
        "p.addrear(10)\n",
        "p.addrear(19)"
      ]
    },
    {
      "cell_type": "code",
      "execution_count": null,
      "metadata": {
        "colab": {
          "base_uri": "https://localhost:8080/"
        },
        "id": "B6R1ZyyNAorS",
        "outputId": "f3af3511-8303-42b0-efbe-322ee10f89a2"
      },
      "outputs": [
        {
          "output_type": "stream",
          "name": "stdout",
          "text": [
            "Tampilan list setelah ditambahkan data dari belakang\n"
          ]
        },
        {
          "output_type": "execute_result",
          "data": {
            "text/plain": [
              "[10, 19]"
            ]
          },
          "metadata": {},
          "execution_count": 6
        }
      ],
      "source": [
        "print('Tampilan list setelah ditambahkan data dari belakang')\n",
        "p.display()"
      ]
    },
    {
      "cell_type": "code",
      "execution_count": null,
      "metadata": {
        "id": "ZXQWAEGZ_G9t"
      },
      "outputs": [],
      "source": [
        "p.addfront(6)\n",
        "p.addfront(99)"
      ]
    },
    {
      "cell_type": "code",
      "execution_count": null,
      "metadata": {
        "colab": {
          "base_uri": "https://localhost:8080/"
        },
        "id": "RKs2vYq5_LD_",
        "outputId": "d11e6655-6d1e-4abb-8cb3-85484fd88e82"
      },
      "outputs": [
        {
          "output_type": "stream",
          "name": "stdout",
          "text": [
            "Tampilan list setelah ditambahkan data dari depan\n"
          ]
        },
        {
          "output_type": "execute_result",
          "data": {
            "text/plain": [
              "[99, 6, 10, 19]"
            ]
          },
          "metadata": {},
          "execution_count": 8
        }
      ],
      "source": [
        "print('Tampilan list setelah ditambahkan data dari depan')\n",
        "p.display()"
      ]
    },
    {
      "cell_type": "code",
      "execution_count": null,
      "metadata": {
        "colab": {
          "base_uri": "https://localhost:8080/"
        },
        "id": "5ZIHko_yANCs",
        "outputId": "a981c3cf-9abd-4efd-d055-3eca4a129fde"
      },
      "outputs": [
        {
          "output_type": "execute_result",
          "data": {
            "text/plain": [
              "99"
            ]
          },
          "metadata": {},
          "execution_count": 9
        }
      ],
      "source": [
        "p.deletefront() #hapus data dari depan"
      ]
    },
    {
      "cell_type": "code",
      "execution_count": null,
      "metadata": {
        "colab": {
          "base_uri": "https://localhost:8080/"
        },
        "id": "SmaJhjTTARZk",
        "outputId": "55946665-a937-4aa0-953a-7d95ab1d2541"
      },
      "outputs": [
        {
          "output_type": "execute_result",
          "data": {
            "text/plain": [
              "19"
            ]
          },
          "metadata": {},
          "execution_count": 10
        }
      ],
      "source": [
        "p.deleterear() #hapus data dari belakang"
      ]
    },
    {
      "cell_type": "code",
      "execution_count": null,
      "metadata": {
        "colab": {
          "base_uri": "https://localhost:8080/"
        },
        "id": "RUXzbfp3ATRW",
        "outputId": "1808772f-7de0-4ff2-ef74-09d761d3cfe8"
      },
      "outputs": [
        {
          "output_type": "stream",
          "name": "stdout",
          "text": [
            "Tampilan list setelah dihapus data\n"
          ]
        },
        {
          "output_type": "execute_result",
          "data": {
            "text/plain": [
              "[6, 10]"
            ]
          },
          "metadata": {},
          "execution_count": 11
        }
      ],
      "source": [
        "print('Tampilan list setelah dihapus data')\n",
        "p.display()"
      ]
    },
    {
      "cell_type": "code",
      "execution_count": null,
      "metadata": {
        "colab": {
          "base_uri": "https://localhost:8080/"
        },
        "id": "Nv_pcMlGA4ax",
        "outputId": "67c42a0b-9973-41f8-ae2e-74ede99b9b95"
      },
      "outputs": [
        {
          "output_type": "stream",
          "name": "stdout",
          "text": [
            "Selamat Datang di Program Urutan Film Terbaik 2020\n",
            "\n",
            "Berikut ini adalah urutan 10 besar film terbaik di tahun 2020 versi imdb\n",
            "                      Movies     Votes\n",
            "0                      Tenet  4,76,083\n",
            "1                       Soul  3,15,029\n",
            "2          Wonder Woman 1984  2,58,696\n",
            "3              Birds of Prey  2,31,720\n",
            "4          The Invisible Man  2,20,635\n",
            "5            A Quiet Place 2  2,14,958\n",
            "6                 Extraction  1,95,446\n",
            "7   The Trial of the Chicago  1,73,224\n",
            "8               Enola Holmes  1,65,032\n",
            "9      Promising Young Woman  1,64,154\n",
            "10             The Old Guard  1,59,892\n",
            "11         Bad Boys for Life  1,57,487\n",
            "12                 Nomadland  1,53,624\n",
            "13              Palm Springs  1,52,427\n",
            "14             Another Round  1,47,748\n",
            "\n",
            "Ayo urutkan 5 film terbaik diatas menurut versimu sendiri\n",
            "\n",
            "Tekan 1 untuk mengurutkan daftar film dari atas kebawah\n",
            "atau \n",
            "Tekan 2 untuk mengurutkan daftar film dari bawah keatas \n",
            "1\n",
            "Tuliskan judul film urutan ke-1: Soul\n",
            "Tuliskan judul film urutan ke-2: Birds\n",
            "Tuliskan judul film urutan ke-3: Nomadand\n",
            "Tuliskan judul film urutan ke-4: Another round\n",
            "Tuliskan judul film urutan ke-5: Tenet\n",
            "\n",
            "       Top Movies\n",
            "0           Soul\n",
            "1          Birds\n",
            "2       Nomadand\n",
            "3  Another round\n",
            "4          Tenet\n",
            "Inilah urutan 5 film terbaik di tahun 2020 versi mu!\n"
          ]
        }
      ],
      "source": [
        "class UrutFilm(Deque):\n",
        "    def urut(self):\n",
        "      print(\"\\nTekan 1 untuk mengurutkan daftar film dari atas kebawah\",end='\\n') \n",
        "      print(\"atau \\nTekan 2 untuk mengurutkan daftar film dari bawah keatas \")\n",
        "      n = input(str())\n",
        "\n",
        "      if n == '1':\n",
        "        for i in range(5):\n",
        "          d.addrear(input(f'Tuliskan judul film urutan ke-{i+1}: '))\n",
        "      elif n == '2':\n",
        "        for j in reversed(range(5)):  \n",
        "          d.addfront(input(f'Tuliskan judul film urutan ke-{j+1}: '))\n",
        "      else:\n",
        "        print(\"Pahami perintahnya!!!!\")\n",
        "\n",
        "      return d.display()\n",
        "\n",
        "\n",
        "# Main Program\n",
        "print('Selamat Datang di Program Urutan Film Terbaik 2020')\n",
        "\n",
        "print('\\nBerikut ini adalah urutan 10 besar film terbaik di tahun 2020 versi imdb')\n",
        "dm = pd.DataFrame({'Movies':df['Movie'],'Votes':df['No. of votes']})\n",
        "print(dm.head(15))\n",
        "\n",
        "print('\\nAyo urutkan 5 film terbaik diatas menurut versimu sendiri')\n",
        "\n",
        "d = UrutFilm()\n",
        "d.urut()\n",
        "dl = pd.DataFrame({'Top Movies':d.display()})\n",
        "print('\\n',dl.head())\n",
        "\n",
        "print('Inilah urutan 5 film terbaik di tahun 2020 versi mu!')\n"
      ]
    }
  ],
  "metadata": {
    "colab": {
      "provenance": []
    },
    "kernelspec": {
      "display_name": "Python 3",
      "name": "python3"
    },
    "language_info": {
      "name": "python"
    }
  },
  "nbformat": 4,
  "nbformat_minor": 0
}